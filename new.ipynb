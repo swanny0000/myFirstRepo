{
 "cells": [
  {
   "cell_type": "markdown",
   "metadata": {},
   "source": [
    "# Welcome to the newest and coolest notebook around!\n",
    "\n",
    "Let's look at some fibonnacci and tribonnacci stuff"
   ]
  },
  {
   "cell_type": "code",
   "execution_count": 4,
   "metadata": {
    "vscode": {
     "languageId": "python"
    }
   },
   "outputs": [
    {
     "data": {
      "text/plain": [
       "610"
      ]
     },
     "execution_count": 4,
     "metadata": {},
     "output_type": "execute_result"
    }
   ],
   "source": [
    "def fibonacci(number):\n",
    "\ttry:\n",
    "\t\tif number < 1:\n",
    "\t\t\tprint(\"Number must be greater than 1\")\n",
    "\t\telif number == 1 or number == 2:\n",
    "\t\t\treturn 1\n",
    "\t\telse:\n",
    "\t\t\treturn fibonacci(number-1) + fibonacci(number-2)\n",
    "\texcept:\n",
    "\t\tprint(\"Please enter an integer for the fibonacci program\")\n",
    "\t\treturn\n",
    "\n",
    "fibonacci(15)"
   ]
  },
  {
   "cell_type": "code",
   "execution_count": 2,
   "metadata": {
    "vscode": {
     "languageId": "python"
    }
   },
   "outputs": [
    {
     "data": {
      "text/plain": [
       "3136"
      ]
     },
     "execution_count": 2,
     "metadata": {},
     "output_type": "execute_result"
    }
   ],
   "source": [
    "def tribonacci(number):\n",
    "\ttry:\n",
    "\t\tif number < 1:\n",
    "\t\t\tprint(\"Number must be greater than 1\")\n",
    "\t\telif number == 1 or number == 2:\n",
    "\t\t\treturn 1\n",
    "\t\telif number == 3:\n",
    "\t\t\treturn 2\n",
    "\t\telse:\n",
    "\t\t\treturn tribonacci(number-3)+tribonacci(number-2)+tribonacci(number-1)\n",
    "\texcept:\n",
    "\t\tprint(\"Please enter an integer for the tribonacci program\")\n",
    "\t\treturn\n",
    "\t\n",
    "tribonacci(15)"
   ]
  },
  {
   "cell_type": "markdown",
   "metadata": {},
   "source": []
  }
 ],
 "metadata": {
  "kernelspec": {
   "display_name": "PowerShell",
   "language": "powershell",
   "name": "powershell"
  },
  "language_info": {
   "name": "powershell"
  },
  "orig_nbformat": 4
 },
 "nbformat": 4,
 "nbformat_minor": 2
}
